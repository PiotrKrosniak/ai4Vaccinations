{
 "cells": [
  {
   "cell_type": "code",
   "execution_count": 92,
   "metadata": {},
   "outputs": [],
   "source": [
    "import tensorflow as tf\n",
    "import pandas as pd \n",
    "csv_file = pd.read_csv('./results/ADM_VRP_20_1024/data_pak_calc.csv')\n",
    "df = csv_file['latitude-longitude'].head(20)\n",
    "\n"
   ]
  },
  {
   "cell_type": "code",
   "execution_count": 86,
   "metadata": {},
   "outputs": [],
   "source": [
    "import tensorflow as tf\n",
    "\n",
    "tensorList = ['33.678009,73.031488',\n",
    " '33.721182,73.082769',\n",
    " '33.652216,73.015807',\n",
    " '33.715528,73.017282',\n",
    " '33.716625,73.07991',\n",
    " '33.646957,73.161429',\n",
    " '33.649324,73.017126',\n",
    " '33.719812,73.03444',\n",
    " '33.7018928662,73.0538018524',\n",
    " '33.7126532671,73.037796725',\n",
    " '33.648845,73.040828',\n",
    " '33.64943,73.01726',\n",
    " '33.69953,73.05353',\n",
    " '33.6487970488,73.0406091051',\n",
    " '33.693119,73.056956',\n",
    " '33.6571865263,73.0696338564',\n",
    " '33.6323864807,73.1223405397',\n",
    " '33.7372742684,73.0932875168',\n",
    " '33.7434940689,73.0886076296',\n",
    " '33.7094208981,73.0840775542',]\n",
    "\n",
    "# Split the strings on the comma\n",
    "coords = tf.strings.split(tensorList, sep=',')\n",
    "# Convert the strings to numbers\n",
    "coords = tf.strings.to_number(coords)\n",
    "# Stack the numbers into a tensor\n",
    "coords = tf.stack(coords)\n",
    "coord_reshaped = tf.reshape(coords, [1,20,2])\n",
    "\n",
    "#Location of the main depo \n",
    "depo_base = [33.7111702,73.4285812]\n",
    "depo_reshaped = tf.reshape(depo_base, [1, 2])\n",
    "\n",
    "#Number of capacities \n",
    "CAPACITIES = {\n",
    "            10: 20.,\n",
    "            20: 30.,\n",
    "            50: 40.,\n",
    "            100: 50.\n",
    "        }\n",
    "seed = 1234\n",
    "demand = (tf.cast(tf.random.uniform(minval=1, maxval=10, shape=(1, 20),\n",
    "                                                        dtype=tf.int32, seed=seed), tf.float32) / tf.cast(CAPACITIES[20], tf.float32)\n",
    "                                )\n"
   ]
  },
  {
   "cell_type": "code",
   "execution_count": 87,
   "metadata": {},
   "outputs": [],
   "source": [
    "depo, graphs, demand = (tf.convert_to_tensor(depo_reshaped),\n",
    "                        coord_reshaped, demand\n",
    "                        \n",
    "                        )"
   ]
  },
  {
   "cell_type": "code",
   "execution_count": 88,
   "metadata": {},
   "outputs": [],
   "source": [
    "from utils import save_to_pickle\n",
    "filename = \"myDatase1\"\n",
    "save_to_pickle('Validation_dataset_{}.pkl'.format(filename), (depo, graphs, demand))\n"
   ]
  },
  {
   "cell_type": "code",
   "execution_count": 89,
   "metadata": {},
   "outputs": [
    {
     "data": {
      "text/plain": [
       "(<tf.Tensor: shape=(1, 2), dtype=float32, numpy=array([[33.71117, 73.42858]], dtype=float32)>,\n",
       " <tf.Tensor: shape=(1, 20, 2), dtype=float32, numpy=\n",
       " array([[[33.67801 , 73.03149 ],\n",
       "         [33.721184, 73.08277 ],\n",
       "         [33.652218, 73.01581 ],\n",
       "         [33.715527, 73.01728 ],\n",
       "         [33.716625, 73.07991 ],\n",
       "         [33.646957, 73.16143 ],\n",
       "         [33.649323, 73.01713 ],\n",
       "         [33.71981 , 73.03444 ],\n",
       "         [33.701893, 73.0538  ],\n",
       "         [33.712654, 73.037796],\n",
       "         [33.648846, 73.040825],\n",
       "         [33.64943 , 73.01726 ],\n",
       "         [33.69953 , 73.05353 ],\n",
       "         [33.648796, 73.04061 ],\n",
       "         [33.69312 , 73.05695 ],\n",
       "         [33.65719 , 73.06963 ],\n",
       "         [33.632385, 73.12234 ],\n",
       "         [33.737274, 73.093285],\n",
       "         [33.743496, 73.08861 ],\n",
       "         [33.70942 , 73.084076]]], dtype=float32)>,\n",
       " <tf.Tensor: shape=(1, 20), dtype=float32, numpy=\n",
       " array([[0.26666668, 0.06666667, 0.2       , 0.2       , 0.3       ,\n",
       "         0.2       , 0.26666668, 0.1       , 0.2       , 0.2       ,\n",
       "         0.3       , 0.03333334, 0.23333333, 0.03333334, 0.2       ,\n",
       "         0.06666667, 0.26666668, 0.13333334, 0.16666667, 0.26666668]],\n",
       "       dtype=float32)>)"
      ]
     },
     "execution_count": 89,
     "metadata": {},
     "output_type": "execute_result"
    }
   ],
   "source": [
    "pd.read_pickle('./Validation_dataset_myDatase1.pkl')"
   ]
  }
 ],
 "metadata": {
  "kernelspec": {
   "display_name": "base",
   "language": "python",
   "name": "python3"
  },
  "language_info": {
   "codemirror_mode": {
    "name": "ipython",
    "version": 3
   },
   "file_extension": ".py",
   "mimetype": "text/x-python",
   "name": "python",
   "nbconvert_exporter": "python",
   "pygments_lexer": "ipython3",
   "version": "3.9.15"
  },
  "orig_nbformat": 4,
  "vscode": {
   "interpreter": {
    "hash": "c30f2af5f468e7f5b45bcc30fca5f4886c90d54777aed916ed5f6294dfb24bf2"
   }
  }
 },
 "nbformat": 4,
 "nbformat_minor": 2
}
